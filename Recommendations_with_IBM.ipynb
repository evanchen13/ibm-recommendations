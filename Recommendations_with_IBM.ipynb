{
 "cells": [
  {
   "cell_type": "markdown",
   "metadata": {},
   "source": [
    "# Recommendations with IBM\n",
    "\n",
    "## Table of Contents\n",
    "\n",
    "- [Introduction](#Intro)\n",
    "- [Exploratory Data Analysis](#Exploratory-Data-Analysis)\n",
    "- [Rank-Based Recommendations](#Rank)\n",
    "- [User-User-Based Collaborative Filtering](#User-User)\n",
    "- [Content-Based Recommendations](#Content-Recs)\n",
    "- [Matrix Factorization](#Matrix-Fact)\n",
    "- [Sources](#Sources)\n",
    "\n",
    "<a id='Intro'></a>\n",
    "## Introduction\n",
    "[IBM Watson Studio](https://www.ibm.com/cloud/watson-studio) is a software platform for data science. The platform contains articles that provide useful information such as tutorials for users, summaries of developments in the field of data science, and much more. In this project, I will be building out several different methods for making article recommendations to users of IBM Watson Studio, including rank-based, user-user-based collaborative filtering, content-based, and matrix factorization techniques. The data provided by IBM contains details about which articles users have interacted with, as well as the content of each article on the platform.\n",
    "\n",
    "Special thanks to the [Udacity Data Scientist Nanodegree](https://www.udacity.com/course/data-scientist-nanodegree--nd025) for providing the Jupyter Notebook template and test code.\n",
    "\n",
    "I will start by importing the necessary libraries and reading in the data."
   ]
  },
  {
   "cell_type": "code",
   "execution_count": 1,
   "metadata": {},
   "outputs": [
    {
     "name": "stderr",
     "output_type": "stream",
     "text": [
      "[nltk_data] Downloading package punkt to\n",
      "[nltk_data]     /Users/evanchen13/nltk_data...\n",
      "[nltk_data]   Package punkt is already up-to-date!\n",
      "[nltk_data] Downloading package stopwords to\n",
      "[nltk_data]     /Users/evanchen13/nltk_data...\n",
      "[nltk_data]   Package stopwords is already up-to-date!\n",
      "[nltk_data] Downloading package wordnet to\n",
      "[nltk_data]     /Users/evanchen13/nltk_data...\n",
      "[nltk_data]   Package wordnet is already up-to-date!\n"
     ]
    },
    {
     "data": {
      "text/html": [
       "<div>\n",
       "<style scoped>\n",
       "    .dataframe tbody tr th:only-of-type {\n",
       "        vertical-align: middle;\n",
       "    }\n",
       "\n",
       "    .dataframe tbody tr th {\n",
       "        vertical-align: top;\n",
       "    }\n",
       "\n",
       "    .dataframe thead th {\n",
       "        text-align: right;\n",
       "    }\n",
       "</style>\n",
       "<table border=\"1\" class=\"dataframe\">\n",
       "  <thead>\n",
       "    <tr style=\"text-align: right;\">\n",
       "      <th></th>\n",
       "      <th>article_id</th>\n",
       "      <th>title</th>\n",
       "      <th>email</th>\n",
       "    </tr>\n",
       "  </thead>\n",
       "  <tbody>\n",
       "    <tr>\n",
       "      <th>0</th>\n",
       "      <td>1430.0</td>\n",
       "      <td>using pixiedust for fast, flexible, and easier...</td>\n",
       "      <td>ef5f11f77ba020cd36e1105a00ab868bbdbf7fe7</td>\n",
       "    </tr>\n",
       "    <tr>\n",
       "      <th>1</th>\n",
       "      <td>1314.0</td>\n",
       "      <td>healthcare python streaming application demo</td>\n",
       "      <td>083cbdfa93c8444beaa4c5f5e0f5f9198e4f9e0b</td>\n",
       "    </tr>\n",
       "    <tr>\n",
       "      <th>2</th>\n",
       "      <td>1429.0</td>\n",
       "      <td>use deep learning for image classification</td>\n",
       "      <td>b96a4f2e92d8572034b1e9b28f9ac673765cd074</td>\n",
       "    </tr>\n",
       "    <tr>\n",
       "      <th>3</th>\n",
       "      <td>1338.0</td>\n",
       "      <td>ml optimization using cognitive assistant</td>\n",
       "      <td>06485706b34a5c9bf2a0ecdac41daf7e7654ceb7</td>\n",
       "    </tr>\n",
       "    <tr>\n",
       "      <th>4</th>\n",
       "      <td>1276.0</td>\n",
       "      <td>deploy your python model as a restful api</td>\n",
       "      <td>f01220c46fc92c6e6b161b1849de11faacd7ccb2</td>\n",
       "    </tr>\n",
       "  </tbody>\n",
       "</table>\n",
       "</div>"
      ],
      "text/plain": [
       "   article_id                                              title  \\\n",
       "0      1430.0  using pixiedust for fast, flexible, and easier...   \n",
       "1      1314.0       healthcare python streaming application demo   \n",
       "2      1429.0         use deep learning for image classification   \n",
       "3      1338.0          ml optimization using cognitive assistant   \n",
       "4      1276.0          deploy your python model as a restful api   \n",
       "\n",
       "                                      email  \n",
       "0  ef5f11f77ba020cd36e1105a00ab868bbdbf7fe7  \n",
       "1  083cbdfa93c8444beaa4c5f5e0f5f9198e4f9e0b  \n",
       "2  b96a4f2e92d8572034b1e9b28f9ac673765cd074  \n",
       "3  06485706b34a5c9bf2a0ecdac41daf7e7654ceb7  \n",
       "4  f01220c46fc92c6e6b161b1849de11faacd7ccb2  "
      ]
     },
     "execution_count": 1,
     "metadata": {},
     "output_type": "execute_result"
    }
   ],
   "source": [
    "import pandas as pd\n",
    "import numpy as np\n",
    "import matplotlib.pyplot as plt\n",
    "import project_tests as t\n",
    "import pickle\n",
    "\n",
    "%matplotlib inline\n",
    "\n",
    "import re\n",
    "import nltk\n",
    "nltk.download(['punkt', 'stopwords', 'wordnet'])\n",
    "from nltk.tokenize import word_tokenize\n",
    "from nltk.stem.wordnet import WordNetLemmatizer\n",
    "from nltk.corpus import stopwords\n",
    "from sklearn.feature_extraction.text import TfidfVectorizer\n",
    "\n",
    "import warnings\n",
    "warnings.filterwarnings('ignore')\n",
    "\n",
    "df = pd.read_csv('data/user-item-interactions.csv')\n",
    "df_content = pd.read_csv('data/articles_community.csv')\n",
    "del df['Unnamed: 0']\n",
    "del df_content['Unnamed: 0']\n",
    "\n",
    "# Show df to get an idea of the data\n",
    "df.head()"
   ]
  },
  {
   "cell_type": "code",
   "execution_count": 2,
   "metadata": {},
   "outputs": [
    {
     "data": {
      "text/html": [
       "<div>\n",
       "<style scoped>\n",
       "    .dataframe tbody tr th:only-of-type {\n",
       "        vertical-align: middle;\n",
       "    }\n",
       "\n",
       "    .dataframe tbody tr th {\n",
       "        vertical-align: top;\n",
       "    }\n",
       "\n",
       "    .dataframe thead th {\n",
       "        text-align: right;\n",
       "    }\n",
       "</style>\n",
       "<table border=\"1\" class=\"dataframe\">\n",
       "  <thead>\n",
       "    <tr style=\"text-align: right;\">\n",
       "      <th></th>\n",
       "      <th>doc_body</th>\n",
       "      <th>doc_description</th>\n",
       "      <th>doc_full_name</th>\n",
       "      <th>doc_status</th>\n",
       "      <th>article_id</th>\n",
       "    </tr>\n",
       "  </thead>\n",
       "  <tbody>\n",
       "    <tr>\n",
       "      <th>0</th>\n",
       "      <td>Skip navigation Sign in SearchLoading...\\r\\n\\r...</td>\n",
       "      <td>Detect bad readings in real time using Python ...</td>\n",
       "      <td>Detect Malfunctioning IoT Sensors with Streami...</td>\n",
       "      <td>Live</td>\n",
       "      <td>0</td>\n",
       "    </tr>\n",
       "    <tr>\n",
       "      <th>1</th>\n",
       "      <td>No Free Hunch Navigation * kaggle.com\\r\\n\\r\\n ...</td>\n",
       "      <td>See the forest, see the trees. Here lies the c...</td>\n",
       "      <td>Communicating data science: A guide to present...</td>\n",
       "      <td>Live</td>\n",
       "      <td>1</td>\n",
       "    </tr>\n",
       "    <tr>\n",
       "      <th>2</th>\n",
       "      <td>☰ * Login\\r\\n * Sign Up\\r\\n\\r\\n * Learning Pat...</td>\n",
       "      <td>Here’s this week’s news in Data Science and Bi...</td>\n",
       "      <td>This Week in Data Science (April 18, 2017)</td>\n",
       "      <td>Live</td>\n",
       "      <td>2</td>\n",
       "    </tr>\n",
       "    <tr>\n",
       "      <th>3</th>\n",
       "      <td>DATALAYER: HIGH THROUGHPUT, LOW LATENCY AT SCA...</td>\n",
       "      <td>Learn how distributed DBs solve the problem of...</td>\n",
       "      <td>DataLayer Conference: Boost the performance of...</td>\n",
       "      <td>Live</td>\n",
       "      <td>3</td>\n",
       "    </tr>\n",
       "    <tr>\n",
       "      <th>4</th>\n",
       "      <td>Skip navigation Sign in SearchLoading...\\r\\n\\r...</td>\n",
       "      <td>This video demonstrates the power of IBM DataS...</td>\n",
       "      <td>Analyze NY Restaurant data using Spark in DSX</td>\n",
       "      <td>Live</td>\n",
       "      <td>4</td>\n",
       "    </tr>\n",
       "  </tbody>\n",
       "</table>\n",
       "</div>"
      ],
      "text/plain": [
       "                                            doc_body  \\\n",
       "0  Skip navigation Sign in SearchLoading...\\r\\n\\r...   \n",
       "1  No Free Hunch Navigation * kaggle.com\\r\\n\\r\\n ...   \n",
       "2  ☰ * Login\\r\\n * Sign Up\\r\\n\\r\\n * Learning Pat...   \n",
       "3  DATALAYER: HIGH THROUGHPUT, LOW LATENCY AT SCA...   \n",
       "4  Skip navigation Sign in SearchLoading...\\r\\n\\r...   \n",
       "\n",
       "                                     doc_description  \\\n",
       "0  Detect bad readings in real time using Python ...   \n",
       "1  See the forest, see the trees. Here lies the c...   \n",
       "2  Here’s this week’s news in Data Science and Bi...   \n",
       "3  Learn how distributed DBs solve the problem of...   \n",
       "4  This video demonstrates the power of IBM DataS...   \n",
       "\n",
       "                                       doc_full_name doc_status  article_id  \n",
       "0  Detect Malfunctioning IoT Sensors with Streami...       Live           0  \n",
       "1  Communicating data science: A guide to present...       Live           1  \n",
       "2         This Week in Data Science (April 18, 2017)       Live           2  \n",
       "3  DataLayer Conference: Boost the performance of...       Live           3  \n",
       "4      Analyze NY Restaurant data using Spark in DSX       Live           4  "
      ]
     },
     "execution_count": 2,
     "metadata": {},
     "output_type": "execute_result"
    }
   ],
   "source": [
    "# Show df_content to get an idea of the data\n",
    "df_content.head()"
   ]
  },
  {
   "cell_type": "markdown",
   "metadata": {},
   "source": [
    "<a id='Exploratory-Data-Analysis'></a>\n",
    "## Exploratory Data Analysis\n",
    "\n",
    "I will use the following section to provide some insight into the descriptive statistics of the data.\n",
    "\n",
    "First I want to find out, what is the distribution of how many articles a user interacts with? I will provide visualizations and descriptive statistics to give a look at the number of times each user interacts with an article."
   ]
  },
  {
   "cell_type": "code",
   "execution_count": 3,
   "metadata": {},
   "outputs": [
    {
     "data": {
      "image/png": "[encoded data removed]",
      "text/plain": [
       "<Figure size 432x288 with 1 Axes>"
      ]
     },
     "metadata": {
      "needs_background": "light"
     },
     "output_type": "display_data"
    }
   ],
   "source": [
    "interactions_per_user = df.groupby('email').size()\n",
    "bin_size = 5\n",
    "bins = np.arange(0, interactions_per_user.max()+bin_size, bin_size)\n",
    "plt.hist(interactions_per_user, bins=bins)\n",
    "plt.title('Distribution of Number of Interactions Per User')\n",
    "plt.xlabel('Number of Interactions')\n",
    "plt.ylabel('User Count');"
   ]
  },
  {
   "cell_type": "markdown",
   "metadata": {},
   "source": [
    "The visualization shows that the distribution of interactions per user is right-skewed, and because the x-scale stretches out to more than 350, it seems like there may be an outlier. Therefore, I will show the same distribution but on a logarithmic scale to better visualize the distribution."
   ]
  },
  {
   "cell_type": "code",
   "execution_count": 4,
   "metadata": {},
   "outputs": [
    {
     "data": {
      "image/png": "[encoded data removed]",
      "text/plain": [
       "<Figure size 432x288 with 1 Axes>"
      ]
     },
     "metadata": {
      "needs_background": "light"
     },
     "output_type": "display_data"
    }
   ],
   "source": [
    "log_bin_size = 0.2\n",
    "bins = 10**np.arange(\n",
    "    np.log10(interactions_per_user.min()),\n",
    "    np.log10(interactions_per_user.max())+log_bin_size,\n",
    "    log_bin_size\n",
    ")\n",
    "xticks = [1, 3, 10, 30, 100, 300]\n",
    "plt.hist(interactions_per_user, bins=bins)\n",
    "plt.xscale('log')\n",
    "plt.xticks(xticks, xticks)\n",
    "plt.title('Logarithmic Distribution of Number of Interactions Per User')\n",
    "plt.xlabel('Number of Interactions')\n",
    "plt.ylabel('User Count');"
   ]
  },
  {
   "cell_type": "markdown",
   "metadata": {},
   "source": [
    "Based on this histogram, it looks like almost all users have had 100 or fewer interactions, with the majority being less than 10. Most users have only interacted with one article, and the distribution gradually decreases from there, aside from a spike at about four interactions per user.\n",
    "\n",
    "I will also show the descriptive statistics."
   ]
  },
  {
   "cell_type": "code",
   "execution_count": 5,
   "metadata": {},
   "outputs": [
    {
     "data": {
      "text/plain": [
       "count    5148.000000\n",
       "mean        8.930847\n",
       "std        16.802267\n",
       "min         1.000000\n",
       "25%         1.000000\n",
       "50%         3.000000\n",
       "75%         9.000000\n",
       "max       364.000000\n",
       "dtype: float64"
      ]
     },
     "execution_count": 5,
     "metadata": {},
     "output_type": "execute_result"
    }
   ],
   "source": [
    "interactions_per_user.describe()"
   ]
  },
  {
   "cell_type": "code",
   "execution_count": 6,
   "metadata": {},
   "outputs": [],
   "source": [
    "# 50% of individuals interact with 3 articles or fewer\n",
    "median_val = interactions_per_user.median()\n",
    "# The maximum number of user-article interactions by any 1 user is 364\n",
    "max_views_by_user = interactions_per_user.max()"
   ]
  },
  {
   "cell_type": "markdown",
   "metadata": {},
   "source": [
    "Now I will explore and remove duplicate articles from the `df_content` dataframe.  "
   ]
  },
  {
   "cell_type": "code",
   "execution_count": 7,
   "metadata": {},
   "outputs": [
    {
     "data": {
      "text/html": [
       "<div>\n",
       "<style scoped>\n",
       "    .dataframe tbody tr th:only-of-type {\n",
       "        vertical-align: middle;\n",
       "    }\n",
       "\n",
       "    .dataframe tbody tr th {\n",
       "        vertical-align: top;\n",
       "    }\n",
       "\n",
       "    .dataframe thead th {\n",
       "        text-align: right;\n",
       "    }\n",
       "</style>\n",
       "<table border=\"1\" class=\"dataframe\">\n",
       "  <thead>\n",
       "    <tr style=\"text-align: right;\">\n",
       "      <th></th>\n",
       "      <th>doc_body</th>\n",
       "      <th>doc_description</th>\n",
       "      <th>doc_full_name</th>\n",
       "      <th>doc_status</th>\n",
       "      <th>article_id</th>\n",
       "    </tr>\n",
       "  </thead>\n",
       "  <tbody>\n",
       "    <tr>\n",
       "      <th>365</th>\n",
       "      <td>Follow Sign in / Sign up Home About Insight Da...</td>\n",
       "      <td>During the seven-week Insight Data Engineering...</td>\n",
       "      <td>Graph-based machine learning</td>\n",
       "      <td>Live</td>\n",
       "      <td>50</td>\n",
       "    </tr>\n",
       "    <tr>\n",
       "      <th>692</th>\n",
       "      <td>Homepage Follow Sign in / Sign up Homepage * H...</td>\n",
       "      <td>One of the earliest documented catalogs was co...</td>\n",
       "      <td>How smart catalogs can turn the big data flood...</td>\n",
       "      <td>Live</td>\n",
       "      <td>221</td>\n",
       "    </tr>\n",
       "    <tr>\n",
       "      <th>761</th>\n",
       "      <td>Homepage Follow Sign in Get started Homepage *...</td>\n",
       "      <td>Today’s world of data science leverages data f...</td>\n",
       "      <td>Using Apache Spark as a parallel processing fr...</td>\n",
       "      <td>Live</td>\n",
       "      <td>398</td>\n",
       "    </tr>\n",
       "    <tr>\n",
       "      <th>970</th>\n",
       "      <td>This video shows you how to construct queries ...</td>\n",
       "      <td>This video shows you how to construct queries ...</td>\n",
       "      <td>Use the Primary Index</td>\n",
       "      <td>Live</td>\n",
       "      <td>577</td>\n",
       "    </tr>\n",
       "    <tr>\n",
       "      <th>971</th>\n",
       "      <td>Homepage Follow Sign in Get started * Home\\r\\n...</td>\n",
       "      <td>If you are like most data scientists, you are ...</td>\n",
       "      <td>Self-service data preparation with IBM Data Re...</td>\n",
       "      <td>Live</td>\n",
       "      <td>232</td>\n",
       "    </tr>\n",
       "  </tbody>\n",
       "</table>\n",
       "</div>"
      ],
      "text/plain": [
       "                                              doc_body  \\\n",
       "365  Follow Sign in / Sign up Home About Insight Da...   \n",
       "692  Homepage Follow Sign in / Sign up Homepage * H...   \n",
       "761  Homepage Follow Sign in Get started Homepage *...   \n",
       "970  This video shows you how to construct queries ...   \n",
       "971  Homepage Follow Sign in Get started * Home\\r\\n...   \n",
       "\n",
       "                                       doc_description  \\\n",
       "365  During the seven-week Insight Data Engineering...   \n",
       "692  One of the earliest documented catalogs was co...   \n",
       "761  Today’s world of data science leverages data f...   \n",
       "970  This video shows you how to construct queries ...   \n",
       "971  If you are like most data scientists, you are ...   \n",
       "\n",
       "                                         doc_full_name doc_status  article_id  \n",
       "365                       Graph-based machine learning       Live          50  \n",
       "692  How smart catalogs can turn the big data flood...       Live         221  \n",
       "761  Using Apache Spark as a parallel processing fr...       Live         398  \n",
       "970                              Use the Primary Index       Live         577  \n",
       "971  Self-service data preparation with IBM Data Re...       Live         232  "
      ]
     },
     "execution_count": 7,
     "metadata": {},
     "output_type": "execute_result"
    }
   ],
   "source": [
    "# Find and explore duplicate articles\n",
    "df_content[df_content.duplicated(subset='article_id')]"
   ]
  },
  {
   "cell_type": "code",
   "execution_count": 8,
   "metadata": {},
   "outputs": [],
   "source": [
    "# Remove any rows that have the same article_id - only keep the first\n",
    "df_content.drop_duplicates(subset='article_id', inplace=True)"
   ]
  },
  {
   "cell_type": "markdown",
   "metadata": {},
   "source": [
    "I will also find the following data points:\n",
    "\n",
    "- The number of unique articles that have an interaction with a user.  \n",
    "- The number of unique articles in the dataset (whether they have any interactions or not).\n",
    "- The number of unique users in the dataset (excluding null values).\n",
    "- The number of user-article interactions in the dataset."
   ]
  },
  {
   "cell_type": "code",
   "execution_count": 9,
   "metadata": {},
   "outputs": [],
   "source": [
    "# The number of unique articles that have at least one interaction\n",
    "unique_articles = df['article_id'].nunique()\n",
    "# The number of unique articles on the IBM platform\n",
    "total_articles = df_content.shape[0]\n",
    "# The number of unique users\n",
    "unique_users = df['email'].nunique()\n",
    "# The number of user-article interactions\n",
    "user_article_interactions = df.shape[0]"
   ]
  },
  {
   "cell_type": "markdown",
   "metadata": {},
   "source": [
    "I also want to see the most viewed `article_id`, as well as how often it was viewed."
   ]
  },
  {
   "cell_type": "code",
   "execution_count": 10,
   "metadata": {},
   "outputs": [],
   "source": [
    "# The most viewed article in the dataset \n",
    "most_viewed_article_id = str(df['article_id'].value_counts().index[0])\n",
    "# The most viewed article in the dataset was viewed this many times\n",
    "max_views = df['article_id'].value_counts().values[0]"
   ]
  },
  {
   "cell_type": "markdown",
   "metadata": {},
   "source": [
    "Udacity talked to IBM leaders and deemed that the following `email_mapper` function is a reasonable way to map users to IDs. There are a small number of null values, and it was found that all of these null values likely belong to a single user (which is how they are stored using the function below)."
   ]
  },
  {
   "cell_type": "code",
   "execution_count": 11,
   "metadata": {},
   "outputs": [
    {
     "data": {
      "text/html": [
       "<div>\n",
       "<style scoped>\n",
       "    .dataframe tbody tr th:only-of-type {\n",
       "        vertical-align: middle;\n",
       "    }\n",
       "\n",
       "    .dataframe tbody tr th {\n",
       "        vertical-align: top;\n",
       "    }\n",
       "\n",
       "    .dataframe thead th {\n",
       "        text-align: right;\n",
       "    }\n",
       "</style>\n",
       "<table border=\"1\" class=\"dataframe\">\n",
       "  <thead>\n",
       "    <tr style=\"text-align: right;\">\n",
       "      <th></th>\n",
       "      <th>article_id</th>\n",
       "      <th>title</th>\n",
       "      <th>user_id</th>\n",
       "    </tr>\n",
       "  </thead>\n",
       "  <tbody>\n",
       "    <tr>\n",
       "      <th>0</th>\n",
       "      <td>1430.0</td>\n",
       "      <td>using pixiedust for fast, flexible, and easier...</td>\n",
       "      <td>1</td>\n",
       "    </tr>\n",
       "    <tr>\n",
       "      <th>1</th>\n",
       "      <td>1314.0</td>\n",
       "      <td>healthcare python streaming application demo</td>\n",
       "      <td>2</td>\n",
       "    </tr>\n",
       "    <tr>\n",
       "      <th>2</th>\n",
       "      <td>1429.0</td>\n",
       "      <td>use deep learning for image classification</td>\n",
       "      <td>3</td>\n",
       "    </tr>\n",
       "    <tr>\n",
       "      <th>3</th>\n",
       "      <td>1338.0</td>\n",
       "      <td>ml optimization using cognitive assistant</td>\n",
       "      <td>4</td>\n",
       "    </tr>\n",
       "    <tr>\n",
       "      <th>4</th>\n",
       "      <td>1276.0</td>\n",
       "      <td>deploy your python model as a restful api</td>\n",
       "      <td>5</td>\n",
       "    </tr>\n",
       "  </tbody>\n",
       "</table>\n",
       "</div>"
      ],
      "text/plain": [
       "   article_id                                              title  user_id\n",
       "0      1430.0  using pixiedust for fast, flexible, and easier...        1\n",
       "1      1314.0       healthcare python streaming application demo        2\n",
       "2      1429.0         use deep learning for image classification        3\n",
       "3      1338.0          ml optimization using cognitive assistant        4\n",
       "4      1276.0          deploy your python model as a restful api        5"
      ]
     },
     "execution_count": 11,
     "metadata": {},
     "output_type": "execute_result"
    }
   ],
   "source": [
    "def email_mapper():\n",
    "    '''\n",
    "    INPUT:\n",
    "    None\n",
    "    \n",
    "    OUTPUT:\n",
    "    email_encoded - (list) user ids representing user emails\n",
    "    \n",
    "    Description:\n",
    "    Maps the user email to a user_id column and removes the email column\n",
    "    '''\n",
    "    \n",
    "    coded_dict = dict()\n",
    "    cter = 1\n",
    "    email_encoded = []\n",
    "    \n",
    "    for val in df['email']:\n",
    "        if val not in coded_dict:\n",
    "            coded_dict[val] = cter\n",
    "            cter+=1\n",
    "        \n",
    "        email_encoded.append(coded_dict[val])\n",
    "    return email_encoded\n",
    "\n",
    "email_encoded = email_mapper()\n",
    "del df['email']\n",
    "df['user_id'] = email_encoded\n",
    "\n",
    "# show header\n",
    "df.head()"
   ]
  },
  {
   "cell_type": "markdown",
   "metadata": {},
   "source": [
    "Now I will compare my results against Udacity's."
   ]
  },
  {
   "cell_type": "code",
   "execution_count": 12,
   "metadata": {},
   "outputs": [
    {
     "name": "stdout",
     "output_type": "stream",
     "text": [
      "It looks like you have everything right here! Nice job!\n"
     ]
    }
   ],
   "source": [
    "sol_1_dict = {\n",
    "    '`50% of individuals have _____ or fewer interactions.`': median_val,\n",
    "    '`The total number of user-article interactions in the dataset is ______.`': user_article_interactions,\n",
    "    '`The maximum number of user-article interactions by any 1 user is ______.`': max_views_by_user,\n",
    "    '`The most viewed article in the dataset was viewed _____ times.`': max_views,\n",
    "    '`The article_id of the most viewed article is ______.`': most_viewed_article_id,\n",
    "    '`The number of unique articles that have at least 1 rating ______.`': unique_articles,\n",
    "    '`The number of unique users in the dataset is ______`': unique_users,\n",
    "    '`The number of unique articles on the IBM platform`': total_articles\n",
    "}\n",
    "\n",
    "t.sol_1_test(sol_1_dict)"
   ]
  },
  {
   "cell_type": "markdown",
   "metadata": {},
   "source": [
    "<a id='Rank'></a>\n",
    "## Rank-Based Recommendations\n",
    "\n",
    "Rank-based systems provide recommendations based on the highest popularity, whether that is measured by ratings, frequency of use, or some other metric.\n",
    "\n",
    "The data provided by IBM does not have ratings for whether a user liked an article or not. It only shows whether a user has interacted with an article. As a result, the popularity of an article can really only be based on how often an article was interacted with.\n",
    "\n",
    "To provide the rank-based recommendations, the following function returns the **n** top articles ordered with most interactions as the top."
   ]
  },
  {
   "cell_type": "code",
   "execution_count": 13,
   "metadata": {},
   "outputs": [],
   "source": [
    "def get_top_articles(n, df=df):\n",
    "    '''\n",
    "    INPUT:\n",
    "    n - (int) the number of top articles to return\n",
    "    df - (Pandas DataFrame) df as defined at the top of the notebook \n",
    "    \n",
    "    OUTPUT:\n",
    "    top_articles - (list) A list of the top n article titles \n",
    "    \n",
    "    Description:\n",
    "    Returns the top article titles based on the number of interactions per article\n",
    "    '''\n",
    "    \n",
    "    # group by article_id and title, then sort by the count to get the top_articles\n",
    "    sorted_articles = df.groupby(['article_id', 'title'], as_index=False).count()\n",
    "    sorted_articles = sorted_articles.sort_values('user_id', ascending=False)\n",
    "    top_articles = list(sorted_articles.head(n)['title'].values)\n",
    "    \n",
    "    # Return the top article titles from df (not df_content)\n",
    "    return top_articles\n",
    "\n",
    "def get_top_article_ids(n, df=df):\n",
    "    '''\n",
    "    INPUT:\n",
    "    n - (int) the number of top articles to return\n",
    "    df - (Pandas DataFrame) df as defined at the top of the notebook \n",
    "    \n",
    "    OUTPUT:\n",
    "    top_articles - (list) A list of the top n article ids \n",
    "    \n",
    "    Description:\n",
    "    Returns the top article ids based on the number of interactions per article\n",
    "    '''\n",
    "    \n",
    "    top_articles = list(df['article_id'].value_counts().index[:n])\n",
    " \n",
    "    # Return the top article ids\n",
    "    return top_articles"
   ]
  },
  {
   "cell_type": "markdown",
   "metadata": {},
   "source": [
    "I will test out my functions by finding the top 10 article names and IDs."
   ]
  },
  {
   "cell_type": "code",
   "execution_count": 14,
   "metadata": {},
   "outputs": [
    {
     "name": "stdout",
     "output_type": "stream",
     "text": [
      "['use deep learning for image classification', 'insights from new york car accident reports', 'visualize car data with brunel', 'use xgboost, scikit-learn & ibm watson machine learning apis', 'predicting churn with the spss random tree algorithm', 'healthcare python streaming application demo', 'finding optimal locations of new store using decision optimization', 'apache spark lab, part 1: basic concepts', 'analyze energy consumption in buildings', 'gosales transactions for logistic regression model']\n",
      "[1429.0, 1330.0, 1431.0, 1427.0, 1364.0, 1314.0, 1293.0, 1170.0, 1162.0, 1304.0]\n"
     ]
    }
   ],
   "source": [
    "print(get_top_articles(10))\n",
    "print(get_top_article_ids(10))"
   ]
  },
  {
   "cell_type": "markdown",
   "metadata": {},
   "source": [
    "I will also test my function against Udacity's solution."
   ]
  },
  {
   "cell_type": "code",
   "execution_count": 15,
   "metadata": {},
   "outputs": [
    {
     "name": "stdout",
     "output_type": "stream",
     "text": [
      "Your top_5 looks like the solution list! Nice job.\n",
      "Your top_10 looks like the solution list! Nice job.\n",
      "Your top_20 looks like the solution list! Nice job.\n"
     ]
    }
   ],
   "source": [
    "# Test function by returning the top 5, 10, and 20 articles\n",
    "top_5 = get_top_articles(5)\n",
    "top_10 = get_top_articles(10)\n",
    "top_20 = get_top_articles(20)\n",
    "\n",
    "# Test each of the three lists from above\n",
    "t.sol_2_test(get_top_articles)"
   ]
  },
  {
   "cell_type": "markdown",
   "metadata": {},
   "source": [
    "<a id='User-User'></a>\n",
    "## User-User-Based Collaborative Filtering</a>\n",
    "\n",
    "Collaborative filtering systems use the interactions between users and products to provide recommendations. For the user-user-based collaborative filtering, I will create a matrix, with `user_id` as the rows and `article_id` as the columns, that shows whether a user has interacted with an article. I will take the dot product of this matrix with its transpose to find the similarity between users. Then, to make recommendations for a given user, I will find the most similar users and recommend the articles that those users have interacted with that the given user has not seen.\n",
    "\n",
    "I will use the following function to reformat the `df` dataframe to be shaped with users as the rows and articles as the columns. The result should satisfy the following:\n",
    "\n",
    "- Each `user_id` should only appear in each row once.\n",
    "- Each `article_id` should only show up in one column.  \n",
    "- If a user has interacted with an article, then I will place a 1 where the user-row meets for that article-column. It does not matter how many times a user has interacted with the article; all entries where a user has interacted with an article should be a 1.  \n",
    "- If a user has not interacted with an item, then I will place a 0 where the user-row meets for that article-column. \n",
    "\n",
    "I will also use the tests provided by Udacity to make sure the basic structure of the matrix matches what is expected by the solution."
   ]
  },
  {
   "cell_type": "code",
   "execution_count": 16,
   "metadata": {},
   "outputs": [],
   "source": [
    "# create the user-article matrix with 1's and 0's\n",
    "\n",
    "def create_user_item_matrix(df):\n",
    "    '''\n",
    "    INPUT:\n",
    "    df - Pandas DataFrame with article_id, title, user_id columns\n",
    "    \n",
    "    OUTPUT:\n",
    "    user_item - user item matrix \n",
    "    \n",
    "    Description:\n",
    "    Returns a matrix with user ids as rows and article ids on the columns with 1 values where a user interacted with \n",
    "    an article and a 0 otherwise\n",
    "    '''\n",
    "    \n",
    "    # pivot the data\n",
    "    user_item = df.groupby(['user_id', 'article_id'])['user_id'].nunique().unstack()\n",
    "    # the resulting matrix shows NaN where users have not interacted with an article, so fill those with 0\n",
    "    user_item.fillna(value=0, inplace=True)\n",
    "    \n",
    "    # return the user_item matrix \n",
    "    return user_item\n",
    "\n",
    "user_item = create_user_item_matrix(df)"
   ]
  },
  {
   "cell_type": "code",
   "execution_count": 17,
   "metadata": {},
   "outputs": [
    {
     "name": "stdout",
     "output_type": "stream",
     "text": [
      "You have passed our quick tests!  Please proceed!\n"
     ]
    }
   ],
   "source": [
    "assert user_item.shape[0] == 5149, \"Oops!  The number of users in the user-article matrix doesn't look right.\"\n",
    "assert user_item.shape[1] == 714, \"Oops!  The number of articles in the user-article matrix doesn't look right.\"\n",
    "assert user_item.sum(axis=1)[1] == 36, \"Oops!  The number of articles seen by user 1 doesn't look right.\"\n",
    "print(\"You have passed our quick tests!  Please proceed!\")"
   ]
  },
  {
   "cell_type": "markdown",
   "metadata": {},
   "source": [
    "The following function will take a `user_id` and provide an ordered list of the most similar users to that user (from most similar to least similar), excluding the provided `user_id`. Because the interactions for each user are binary, it makes sense to compute similarity as the dot product of two users. "
   ]
  },
  {
   "cell_type": "code",
   "execution_count": 18,
   "metadata": {},
   "outputs": [],
   "source": [
    "def find_similar_users(user_id, user_item=user_item):\n",
    "    '''\n",
    "    INPUT:\n",
    "    user_id - (int) a user_id\n",
    "    user_item - (Pandas DataFrame) matrix of users by articles: \n",
    "                1 when a user has interacted with an article, 0 otherwise\n",
    "    \n",
    "    OUTPUT:\n",
    "    similar_users - (list) an ordered list where the closest users (largest dot product users)\n",
    "                    are listed first\n",
    "    \n",
    "    Description:\n",
    "    Computes the similarity of every pair of users based on the dot product\n",
    "    Returns an ordered list of similar users\n",
    "    '''\n",
    "    \n",
    "    # compute similarity of each user to the provided user\n",
    "    user_item_matrix = np.array(user_item)\n",
    "    idx = np.where(user_item.index == user_id)[0][0]\n",
    "    similarity = np.dot(user_item_matrix[idx], user_item_matrix.T)\n",
    "\n",
    "    # sort by similarity\n",
    "    similarity_idxs = similarity.argsort()[::-1]\n",
    "\n",
    "    # create list of just the ids\n",
    "    most_similar_users = list(user_item.index[similarity_idxs])\n",
    "   \n",
    "    # remove the own user's id\n",
    "    most_similar_users.remove(user_id)\n",
    "       \n",
    "    # return a list of the users in order from most to least similar\n",
    "    return most_similar_users\n",
    "        "
   ]
  },
  {
   "cell_type": "markdown",
   "metadata": {},
   "source": [
    "I will test out the function below."
   ]
  },
  {
   "cell_type": "code",
   "execution_count": 19,
   "metadata": {},
   "outputs": [
    {
     "name": "stdout",
     "output_type": "stream",
     "text": [
      "The 10 most similar users to user 1 are: [3933, 23, 3782, 203, 4459, 131, 3870, 46, 4201, 5041]\n",
      "The 5 most similar users to user 3933 are: [1, 23, 3782, 4459, 203]\n",
      "The 3 most similar users to user 46 are: [4201, 23, 3782]\n"
     ]
    }
   ],
   "source": [
    "print(\"The 10 most similar users to user 1 are: {}\".format(find_similar_users(1)[:10]))\n",
    "print(\"The 5 most similar users to user 3933 are: {}\".format(find_similar_users(3933)[:5]))\n",
    "print(\"The 3 most similar users to user 46 are: {}\".format(find_similar_users(46)[:3]))"
   ]
  },
  {
   "cell_type": "markdown",
   "metadata": {},
   "source": [
    "Now that I have a function that provides the most similar users to each user, I will utilize these users to find articles to recommend. Combined together, the functions below will return the articles to recommend to each user."
   ]
  },
  {
   "cell_type": "code",
   "execution_count": 20,
   "metadata": {},
   "outputs": [],
   "source": [
    "def get_article_names(article_ids, df=df):\n",
    "    '''\n",
    "    INPUT:\n",
    "    article_ids - (list) a list of article ids\n",
    "    df - (Pandas DataFrame) df as defined at the top of the notebook\n",
    "    \n",
    "    OUTPUT:\n",
    "    article_names - (list) a list of article names associated with the list of article ids \n",
    "                    (this is identified by the title column)\n",
    "    \n",
    "    Description:\n",
    "    Looks up article names based on the provided article ids\n",
    "    '''\n",
    "    \n",
    "    # find each unique article_id and title combination from df, then look up the article_ids\n",
    "    article_titles = df[['article_id', 'title']]\n",
    "    article_titles.drop_duplicates(inplace=True)\n",
    "    article_names = list(article_titles.query('article_id in @article_ids')['title'])\n",
    "    \n",
    "    # Return the article names associated with list of article ids\n",
    "    return article_names\n",
    "\n",
    "\n",
    "def get_user_articles(user_id, user_item=user_item):\n",
    "    '''\n",
    "    INPUT:\n",
    "    user_id - (int) a user id\n",
    "    user_item - (Pandas DataFrame) matrix of users by articles: \n",
    "                1 when a user has interacted with an article, 0 otherwise\n",
    "    \n",
    "    OUTPUT:\n",
    "    article_ids - (list) a list of the article ids seen by the user\n",
    "    article_names - (list) a list of article names associated with the list of article ids \n",
    "    \n",
    "    Description:\n",
    "    Provides a list of the article_ids and article titles that have been seen by a user\n",
    "    '''\n",
    "    \n",
    "    # find the row for the given user_id\n",
    "    user_item_row = user_item[user_item.index == user_id]\n",
    "    # find the columns where the value is 1, meaning that the user has interacted with that article\n",
    "    # drop the columns that do not have 1\n",
    "    article_ids = list(user_item_row[user_item_row == 1].dropna(axis=1).columns)\n",
    "    article_names = get_article_names(article_ids)\n",
    "    \n",
    "    # return the ids and names\n",
    "    return article_ids, article_names\n",
    "\n",
    "\n",
    "def user_user_recs(user_id, m=10):\n",
    "    '''\n",
    "    INPUT:\n",
    "    user_id - (int) a user id\n",
    "    m - (int) the number of recommendations you want for the user\n",
    "    \n",
    "    OUTPUT:\n",
    "    recs - (list) a list of recommendations for the user\n",
    "    \n",
    "    Description:\n",
    "    Loops through the users based on closeness to the input user_id\n",
    "    For each user - finds articles the user has not seen before and provides them as recs\n",
    "    Does this until m recommendations are found\n",
    "    \n",
    "    Notes:\n",
    "    Users who are the same closeness are chosen arbitrarily as the next user\n",
    "    \n",
    "    For the user where the number of recommended articles starts below m \n",
    "    and ends exceeding m, the last items are chosen arbitrarily\n",
    "    '''\n",
    "    \n",
    "    # find the articles that the given user_id has seen\n",
    "    articles_seen_ids, articles_seen_names = get_user_articles(user_id)\n",
    "    # find similar users to the given user_id\n",
    "    similar_users = find_similar_users(user_id)\n",
    "    \n",
    "    full_recs = np.array([])\n",
    "    \n",
    "    for user in similar_users:\n",
    "        # find the articles that the similar user has seen\n",
    "        user_articles_ids, user_articles_names = get_user_articles(user)\n",
    "        # take the articles that the similar user has seen that the given user_id has not\n",
    "        articles_not_seen = np.setdiff1d(np.array(user_articles_ids), np.array(articles_seen_ids), assume_unique=True)\n",
    "        # add the recs and make sure there are no duplicates\n",
    "        full_recs = np.unique(np.concatenate((full_recs, articles_not_seen)))\n",
    "        if len(full_recs) >= m:\n",
    "            break\n",
    "    \n",
    "    # the full_recs may be more than m, so only take the first m recs\n",
    "    recs = list(full_recs)[:m]\n",
    "    \n",
    "    # return your recommendations for this user_id \n",
    "    return recs   "
   ]
  },
  {
   "cell_type": "markdown",
   "metadata": {},
   "source": [
    "I will check to see that the functions work and match Udacity's solution."
   ]
  },
  {
   "cell_type": "code",
   "execution_count": 21,
   "metadata": {},
   "outputs": [
    {
     "data": {
      "text/plain": [
       "['got zip code data? prep it for analytics. – ibm watson data lab – medium',\n",
       " 'timeseries data analysis of iot events by using jupyter notebook',\n",
       " 'graph-based machine learning',\n",
       " 'using brunel in ipython/jupyter notebooks',\n",
       " 'experience iot with coursera',\n",
       " 'the 3 kinds of context: machine learning and the art of the frame',\n",
       " 'deep forest: towards an alternative to deep neural networks',\n",
       " 'this week in data science (april 18, 2017)',\n",
       " 'higher-order logistic regression for large datasets',\n",
       " 'using machine learning to predict parking difficulty']"
      ]
     },
     "execution_count": 21,
     "metadata": {},
     "output_type": "execute_result"
    }
   ],
   "source": [
    "# Return 10 recommendations for user 1\n",
    "get_article_names(user_user_recs(1, 10))"
   ]
  },
  {
   "cell_type": "code",
   "execution_count": 22,
   "metadata": {},
   "outputs": [
    {
     "name": "stdout",
     "output_type": "stream",
     "text": [
      "If this is all you see, you passed all of our tests!  Nice job!\n"
     ]
    }
   ],
   "source": [
    "assert set(get_article_names([1024.0, 1176.0, 1305.0, 1314.0, 1422.0, 1427.0])) == \\\n",
    "       set(['using deep learning to reconstruct high-resolution audio',\n",
    "            'build a python app on the streaming analytics service',\n",
    "            'gosales transactions for naive bayes model',\n",
    "            'healthcare python streaming application demo',\n",
    "            'use r dataframes & ibm watson natural language understanding',\n",
    "            'use xgboost, scikit-learn & ibm watson machine learning apis']),\\\n",
    "       \"Oops! Your the get_article_names function doesn't work quite how we expect.\"\n",
    "assert set(get_article_names([1320.0, 232.0, 844.0])) == \\\n",
    "       set(['housing (2015): united states demographic measures',\n",
    "            'self-service data preparation with ibm data refinery',\n",
    "            'use the cloudant-spark connector in python notebook']),\\\n",
    "       \"Oops! Your the get_article_names function doesn't work quite how we expect.\"\n",
    "assert set(get_user_articles(20)[0]) == set([1320.0, 232.0, 844.0])\n",
    "assert set(get_user_articles(20)[1]) == \\\n",
    "       set(['housing (2015): united states demographic measures',\n",
    "            'self-service data preparation with ibm data refinery',\n",
    "            'use the cloudant-spark connector in python notebook'])\n",
    "assert set(get_user_articles(2)[0]) == set([1024.0, 1176.0, 1305.0, 1314.0, 1422.0, 1427.0])\n",
    "assert set(get_user_articles(2)[1]) == \\\n",
    "       set(['using deep learning to reconstruct high-resolution audio',\n",
    "            'build a python app on the streaming analytics service',\n",
    "            'gosales transactions for naive bayes model',\n",
    "            'healthcare python streaming application demo',\n",
    "            'use r dataframes & ibm watson natural language understanding',\n",
    "            'use xgboost, scikit-learn & ibm watson machine learning apis'])\n",
    "print(\"If this is all you see, you passed all of our tests!  Nice job!\")"
   ]
  },
  {
   "cell_type": "markdown",
   "metadata": {},
   "source": [
    "Now I will enhance the `user_user_recs` function. Instead of arbitrarily choosing when users are all the same closeness to a given user, I will choose the users that have the most total article interactions before choosing those with fewer article interactions. Additionally, instead of arbitrarily choosing articles from the user where the number of recommended articles starts below m and ends exceeding m, I will choose articles with the articles with the most total interactions before choosing those with fewer total interactions. This ranking is what would be obtained from the `get_top_articles` function from earlier."
   ]
  },
  {
   "cell_type": "code",
   "execution_count": 23,
   "metadata": {},
   "outputs": [],
   "source": [
    "def get_top_sorted_users(user_id, df=df, user_item=user_item):\n",
    "    '''\n",
    "    INPUT:\n",
    "    user_id - (int)\n",
    "    df - (Pandas DataFrame) df as defined at the top of the notebook \n",
    "    user_item - (Pandas DataFrame) matrix of users by articles: \n",
    "            1 when a user has interacted with an article, 0 otherwise\n",
    "    \n",
    "            \n",
    "    OUTPUT:\n",
    "    neighbors_df - (Pandas DataFrame) a dataframe with:\n",
    "                    neighbor_id - is a neighbor user_id\n",
    "                    similarity - measure of the similarity of each user to the provided user_id\n",
    "                    num_interactions - the number of articles viewed by the user\n",
    "                    \n",
    "    Description:\n",
    "    Sort the neighbors by the similarity and then by number of interactions where \n",
    "    highest of each is higher in the dataframe\n",
    "    '''\n",
    "    \n",
    "    neighbors_dict = {}\n",
    "    \n",
    "    # compute similarity of each user to the provided user\n",
    "    user_item_matrix = np.array(user_item)\n",
    "    idx = np.where(user_item.index == user_id)[0][0]\n",
    "    similarity = np.dot(user_item_matrix[idx], user_item_matrix.T)\n",
    "    \n",
    "    neighbor_id = user_item.index\n",
    "    \n",
    "    # create DataFrame using dictionary\n",
    "    neighbors_dict['neighbor_id'] = list(neighbor_id)\n",
    "    neighbors_dict['similarity'] = list(similarity)\n",
    "    neighbors_df = pd.DataFrame(neighbors_dict)\n",
    "    \n",
    "    # find the number of interactions per user and merge with neighbors_df\n",
    "    user_interactions = df['user_id'].value_counts().reset_index()\n",
    "    user_interactions.rename(columns={'index': 'neighbor_id', 'user_id': 'num_interactions'}, inplace=True)\n",
    "    neighbors_df = neighbors_df.merge(user_interactions, how='left', on='neighbor_id')\n",
    "    # remove the given user_id\n",
    "    neighbors_df = neighbors_df.query('neighbor_id != @user_id')\n",
    "    # sort first by similarity, then by num_interactions\n",
    "    neighbors_df.sort_values(['similarity', 'num_interactions'], ascending=False, inplace=True)\n",
    "    \n",
    "    # Return the dataframe specified in the doc_string\n",
    "    return neighbors_df\n",
    "\n",
    "\n",
    "def user_user_recs_part2(user_id, m=10):\n",
    "    '''\n",
    "    INPUT:\n",
    "    user_id - (int) a user id\n",
    "    m - (int) the number of recommendations you want for the user\n",
    "    \n",
    "    OUTPUT:\n",
    "    recs - (list) a list of recommendations for the user by article id\n",
    "    rec_names - (list) a list of recommendations for the user by article title\n",
    "    \n",
    "    Description:\n",
    "    Loops through the users based on closeness to the input user_id\n",
    "    For each user - finds articles the user has not seen before and provides them as recs\n",
    "    Does this until m recommendations are found\n",
    "    \n",
    "    Notes:\n",
    "    * Choose the users that have the most total article interactions \n",
    "    before choosing those with fewer article interactions.\n",
    "    * Choose articles with the articles with the most total interactions \n",
    "    before choosing those with fewer total interactions. \n",
    "    '''\n",
    "    \n",
    "    # find the articles that the given user_id has seen\n",
    "    articles_seen_ids, articles_seen_names = get_user_articles(user_id)\n",
    "    \n",
    "    full_recs = np.array([])\n",
    "    \n",
    "    neighbors_df = get_top_sorted_users(user_id)\n",
    "    for neighbor_id in neighbors_df['neighbor_id']:\n",
    "        # find the articles that the neighbor_id has seen\n",
    "        neighbor_article_ids, neighbor_article_names = get_user_articles(neighbor_id)\n",
    "        # take the articles that the neighbor_id has seen that the given user_id has not\n",
    "        articles_not_seen = np.setdiff1d(\n",
    "            np.array(neighbor_article_ids),\n",
    "            np.array(articles_seen_ids),\n",
    "            assume_unique=True\n",
    "        )\n",
    "        # add the recs and make sure there are no duplicates\n",
    "        full_recs = np.unique(np.concatenate((full_recs, articles_not_seen)))\n",
    "        if len(full_recs) >= m:\n",
    "            break\n",
    "            \n",
    "    # find the number of interactions per article and only take the first m recs\n",
    "    article_interactions = df['article_id'].value_counts().reset_index()\n",
    "    recs = article_interactions.query('index in @full_recs')['index']\n",
    "    recs = list(recs)[:m]\n",
    "    rec_names = get_article_names(recs)\n",
    "        \n",
    "    return recs, rec_names"
   ]
  },
  {
   "cell_type": "markdown",
   "metadata": {},
   "source": [
    "I will check that the functions work and test them against Udacity's solution."
   ]
  },
  {
   "cell_type": "code",
   "execution_count": 24,
   "metadata": {},
   "outputs": [
    {
     "name": "stdout",
     "output_type": "stream",
     "text": [
      "The top 10 recommendations for user 20 are the following article ids:\n",
      "[1330.0, 1427.0, 1364.0, 1170.0, 1162.0, 1304.0, 1351.0, 1160.0, 1354.0, 1368.0]\n",
      "\n",
      "The top 10 recommendations for user 20 are the following article names:\n",
      "['apache spark lab, part 1: basic concepts', 'predicting churn with the spss random tree algorithm', 'analyze energy consumption in buildings', 'use xgboost, scikit-learn & ibm watson machine learning apis', 'putting a human face on machine learning', 'gosales transactions for logistic regression model', 'insights from new york car accident reports', 'model bike sharing data with spss', 'analyze accident reports on amazon emr spark', 'movie recommender system with spark machine learning']\n"
     ]
    }
   ],
   "source": [
    "rec_ids, rec_names = user_user_recs_part2(20, 10)\n",
    "print(\"The top 10 recommendations for user 20 are the following article ids:\")\n",
    "print(rec_ids)\n",
    "print()\n",
    "print(\"The top 10 recommendations for user 20 are the following article names:\")\n",
    "print(rec_names)"
   ]
  },
  {
   "cell_type": "code",
   "execution_count": 25,
   "metadata": {},
   "outputs": [],
   "source": [
    "# Find the user that is most similar to user 1 \n",
    "user1_most_sim = get_top_sorted_users(1).iloc[0]['neighbor_id']\n",
    "# Find the 10th most similar user to user 131\n",
    "user131_10th_sim = get_top_sorted_users(131).iloc[9]['neighbor_id']"
   ]
  },
  {
   "cell_type": "code",
   "execution_count": 26,
   "metadata": {},
   "outputs": [
    {
     "name": "stdout",
     "output_type": "stream",
     "text": [
      "This all looks good!  Nice job!\n"
     ]
    }
   ],
   "source": [
    "sol_5_dict = {\n",
    "    'The user that is most similar to user 1.': user1_most_sim, \n",
    "    'The user that is the 10th most similar to user 131': user131_10th_sim,\n",
    "}\n",
    "\n",
    "t.sol_5_test(sol_5_dict)"
   ]
  },
  {
   "cell_type": "markdown",
   "metadata": {},
   "source": [
    "For new users, because there is no data on what articles they have interacted with, I would not be able to use the user-user-based collaborative filtering. This is known as the cold start problem. I would only be able to use the rank-based recommendations with `get_top_articles` or `get_top_article_ids` for now. However, a better method might be to provide the top articles and have the new user select articles that look interesting, without actually interacting with them. From there, I could then use the `user_user_recs_part2` function to find similar users and provide recommendations.\n",
    "\n",
    "Using the existing functions, I will provide the top 10 recommended articles for a new user. I will also test the result against Udacity's solution."
   ]
  },
  {
   "cell_type": "code",
   "execution_count": 27,
   "metadata": {},
   "outputs": [],
   "source": [
    "# Provide a list of the top 10 article ids you would give to a new user\n",
    "new_user_recs = get_top_article_ids(10)"
   ]
  },
  {
   "cell_type": "code",
   "execution_count": 28,
   "metadata": {},
   "outputs": [
    {
     "name": "stdout",
     "output_type": "stream",
     "text": [
      "That's right!  Nice job!\n"
     ]
    }
   ],
   "source": [
    "assert set(new_user_recs) == set([1314.0,1429.0,1293.0,1427.0,1162.0,1364.0,1304.0,1170.0,1431.0,1330.0]),\\\n",
    "                             \"Oops!  It makes sense that in this case we would want to recommend \"\\\n",
    "                             \"the most popular articles, because we don't know anything about these users.\"\n",
    "\n",
    "print(\"That's right!  Nice job!\")"
   ]
  },
  {
   "cell_type": "markdown",
   "metadata": {},
   "source": [
    "<a id='Content-Recs'></a>\n",
    "## Content-Based Recommendations\n",
    "\n",
    "Content-based systems provide recommendations based on information about users or products. I can implement this by finding the similarity between articles based on their content, similar to what was done with users previously. In the following functions, I will use the `doc_description` column from `df_content` and use TFIDF to create a matrix with articles as the rows and tokens as the columns. Then I will take the dot product of this matrix with its transpose to get the similarity between articles and recommend those with the highest similarity.\n",
    "\n",
    "First I will create a custom function to tokenize the `doc_description`."
   ]
  },
  {
   "cell_type": "code",
   "execution_count": 29,
   "metadata": {},
   "outputs": [],
   "source": [
    "def tokenize(text):\n",
    "    '''\n",
    "    INPUT:\n",
    "    text - (str) doc_description text\n",
    "    \n",
    "    OUTPUT:\n",
    "    tokens - (list) the doc_description text as individual tokens\n",
    "    \n",
    "    Description:\n",
    "    Takes the doc_description text, removes punctuation and stop words, and lemmatizes tokens\n",
    "    '''\n",
    "    \n",
    "    # remove punctuation and replace with space\n",
    "    text = re.sub(r'[^\\w]', ' ', text)\n",
    "    # normalize text\n",
    "    text = text.lower().strip()\n",
    "    # split text into tokens\n",
    "    tokens = word_tokenize(text)\n",
    "    # remove stop words\n",
    "    tokens = [token for token in tokens if token not in stopwords.words('english')]\n",
    "    # lemmatize tokens\n",
    "    tokens = [WordNetLemmatizer().lemmatize(token, pos='n') for token in tokens]\n",
    "    tokens = [WordNetLemmatizer().lemmatize(token, pos='v') for token in tokens]\n",
    "    \n",
    "    return tokens"
   ]
  },
  {
   "cell_type": "markdown",
   "metadata": {},
   "source": [
    "I will use this custom function to pass into scikit-learn's `TfidfVectorizer()`, and then use that to create a matrix with articles as rows and tokens as columns."
   ]
  },
  {
   "cell_type": "code",
   "execution_count": 30,
   "metadata": {},
   "outputs": [],
   "source": [
    "def create_token_matrix(df_content):\n",
    "    '''\n",
    "    INPUT:\n",
    "    df_content - (Pandas DataFrame) dataframe with doc_description as a column\n",
    "    \n",
    "    OUTPUT:\n",
    "    token_matrix - (array) array with articles as rows and tokens as columns\n",
    "    \n",
    "    Description:\n",
    "    Uses TfidfVectorizer from scikit-learn to create an array with articles as rows and tokens as columns\n",
    "    '''\n",
    "    \n",
    "    vectorizer = TfidfVectorizer(tokenizer=tokenize)\n",
    "    doc_description = df_content['doc_description'].fillna(value='').values\n",
    "    token_matrix = vectorizer.fit_transform(doc_description)\n",
    "    # result is a sparse matrix, so convert to a dense ndarray representation\n",
    "    token_matrix = token_matrix.toarray()\n",
    "    \n",
    "    return token_matrix\n",
    "\n",
    "token_matrix = create_token_matrix(df_content)"
   ]
  },
  {
   "cell_type": "markdown",
   "metadata": {},
   "source": [
    "Then I will find similar articles by taking the dot product of the matrix with its transpose."
   ]
  },
  {
   "cell_type": "code",
   "execution_count": 31,
   "metadata": {},
   "outputs": [],
   "source": [
    "def make_content_recs(article_id, token_matrix=token_matrix, m=10):\n",
    "    '''\n",
    "    INPUT:\n",
    "    article_id - (int) article_id used to find similar articles\n",
    "    token_matrix - (array) array with articles as rows and tokens as columns\n",
    "    m - (int) number of recommendations\n",
    "    \n",
    "    OUTPUT:\n",
    "    recs - (list) recommended article ids\n",
    "    rec_names (list) recommended article titles\n",
    "    \n",
    "    Descripton:\n",
    "    Uses the token matrix to find similar articles to the given article_id based on content\n",
    "    '''\n",
    "    \n",
    "    # compute similarity of each article to the provided article\n",
    "    idx = np.where(df_content['article_id'] == article_id)[0][0]\n",
    "    similarity = np.dot(token_matrix[idx], token_matrix.T)\n",
    "    \n",
    "    # sort by similarity\n",
    "    similarity_idxs = similarity.argsort()[::-1]\n",
    "    \n",
    "    # create list of the ids and remove the given article_id\n",
    "    recs = list(df_content['article_id'].iloc[similarity_idxs])\n",
    "    recs.remove(article_id)\n",
    "    recs = recs[:m]\n",
    "    # return article names based on the ids\n",
    "    rec_names = list(df_content.query('article_id in @recs')['doc_full_name'])\n",
    "    \n",
    "    return recs, rec_names"
   ]
  },
  {
   "cell_type": "markdown",
   "metadata": {},
   "source": [
    "I will make sure that the function works properly below."
   ]
  },
  {
   "cell_type": "code",
   "execution_count": 32,
   "metadata": {},
   "outputs": [
    {
     "data": {
      "text/plain": [
       "([408, 789, 466, 830, 328, 1002, 879, 797, 290, 135],\n",
       " ['Simple CouchDB and Cloudant Backup',\n",
       "  'Elasticsearch Tools & Compose',\n",
       "  'Now available on IBM Bluemix',\n",
       "  \"Let's Encrypt TLS Certificates\",\n",
       "  \"Compose's Data Browser comes to Elasticsearch\",\n",
       "  \"Java and Let's Encrypt certificates\",\n",
       "  'Reintroducing the Simple Search Service',\n",
       "  'Getting Started with Elasticsearch using Compose',\n",
       "  'Do you know why Compose proxies database connections?',\n",
       "  \"New features for Compose's ScyllaDB\"])"
      ]
     },
     "execution_count": 32,
     "metadata": {},
     "output_type": "execute_result"
    }
   ],
   "source": [
    "# make a recommendations for a user who only has interacted with article id 786.0\n",
    "make_content_recs(786)"
   ]
  },
  {
   "cell_type": "markdown",
   "metadata": {},
   "source": [
    "One improvement that could be made to this content-based recommendation system is to take into account the `doc_full_name` and `doc_body` columns in `df_content` in addition to `doc_description`, which is what I used. This would provide more data to determine the content of an article.\n",
    "\n",
    "Additionally, another improvement could be to incorporate some knowledge-based methods, which use knowledge about users' preferences to make recommendations. To implement this, I could allow the user to search for a keyword, and the recommendation system would then provide the top articles with that keyword, based on number of interactions or the frequency of that keyword.\n",
    "\n",
    "<a id='Matrix-Fact'></a>\n",
    "## Matrix Factorization\n",
    "\n",
    "Matrix factorization uses latent features to make recommendations. Latent features are features implied by data, but not explicitly observed. By looking at the relationship between users and latent features, latent features and products, and the importance of each latent feature, matrix factorization allows us to predict how a user and product will interact. In this part of the project, I will use matrix factorization to make article recommendations to users on the IBM Watson Studio platform."
   ]
  },
  {
   "cell_type": "code",
   "execution_count": 33,
   "metadata": {},
   "outputs": [],
   "source": [
    "# Load the user_item_matrix from Udacity here\n",
    "user_item_matrix = pd.read_pickle('user_item_matrix.p')"
   ]
  },
  {
   "cell_type": "code",
   "execution_count": 34,
   "metadata": {},
   "outputs": [
    {
     "data": {
      "text/html": [
       "<div>\n",
       "<style scoped>\n",
       "    .dataframe tbody tr th:only-of-type {\n",
       "        vertical-align: middle;\n",
       "    }\n",
       "\n",
       "    .dataframe tbody tr th {\n",
       "        vertical-align: top;\n",
       "    }\n",
       "\n",
       "    .dataframe thead th {\n",
       "        text-align: right;\n",
       "    }\n",
       "</style>\n",
       "<table border=\"1\" class=\"dataframe\">\n",
       "  <thead>\n",
       "    <tr style=\"text-align: right;\">\n",
       "      <th>article_id</th>\n",
       "      <th>0.0</th>\n",
       "      <th>100.0</th>\n",
       "      <th>1000.0</th>\n",
       "      <th>1004.0</th>\n",
       "      <th>1006.0</th>\n",
       "      <th>1008.0</th>\n",
       "      <th>101.0</th>\n",
       "      <th>1014.0</th>\n",
       "      <th>1015.0</th>\n",
       "      <th>1016.0</th>\n",
       "      <th>...</th>\n",
       "      <th>977.0</th>\n",
       "      <th>98.0</th>\n",
       "      <th>981.0</th>\n",
       "      <th>984.0</th>\n",
       "      <th>985.0</th>\n",
       "      <th>986.0</th>\n",
       "      <th>990.0</th>\n",
       "      <th>993.0</th>\n",
       "      <th>996.0</th>\n",
       "      <th>997.0</th>\n",
       "    </tr>\n",
       "    <tr>\n",
       "      <th>user_id</th>\n",
       "      <th></th>\n",
       "      <th></th>\n",
       "      <th></th>\n",
       "      <th></th>\n",
       "      <th></th>\n",
       "      <th></th>\n",
       "      <th></th>\n",
       "      <th></th>\n",
       "      <th></th>\n",
       "      <th></th>\n",
       "      <th></th>\n",
       "      <th></th>\n",
       "      <th></th>\n",
       "      <th></th>\n",
       "      <th></th>\n",
       "      <th></th>\n",
       "      <th></th>\n",
       "      <th></th>\n",
       "      <th></th>\n",
       "      <th></th>\n",
       "      <th></th>\n",
       "    </tr>\n",
       "  </thead>\n",
       "  <tbody>\n",
       "    <tr>\n",
       "      <th>1</th>\n",
       "      <td>0.0</td>\n",
       "      <td>0.0</td>\n",
       "      <td>0.0</td>\n",
       "      <td>0.0</td>\n",
       "      <td>0.0</td>\n",
       "      <td>0.0</td>\n",
       "      <td>0.0</td>\n",
       "      <td>0.0</td>\n",
       "      <td>0.0</td>\n",
       "      <td>0.0</td>\n",
       "      <td>...</td>\n",
       "      <td>0.0</td>\n",
       "      <td>0.0</td>\n",
       "      <td>1.0</td>\n",
       "      <td>0.0</td>\n",
       "      <td>0.0</td>\n",
       "      <td>0.0</td>\n",
       "      <td>0.0</td>\n",
       "      <td>0.0</td>\n",
       "      <td>0.0</td>\n",
       "      <td>0.0</td>\n",
       "    </tr>\n",
       "    <tr>\n",
       "      <th>2</th>\n",
       "      <td>0.0</td>\n",
       "      <td>0.0</td>\n",
       "      <td>0.0</td>\n",
       "      <td>0.0</td>\n",
       "      <td>0.0</td>\n",
       "      <td>0.0</td>\n",
       "      <td>0.0</td>\n",
       "      <td>0.0</td>\n",
       "      <td>0.0</td>\n",
       "      <td>0.0</td>\n",
       "      <td>...</td>\n",
       "      <td>0.0</td>\n",
       "      <td>0.0</td>\n",
       "      <td>0.0</td>\n",
       "      <td>0.0</td>\n",
       "      <td>0.0</td>\n",
       "      <td>0.0</td>\n",
       "      <td>0.0</td>\n",
       "      <td>0.0</td>\n",
       "      <td>0.0</td>\n",
       "      <td>0.0</td>\n",
       "    </tr>\n",
       "    <tr>\n",
       "      <th>3</th>\n",
       "      <td>0.0</td>\n",
       "      <td>0.0</td>\n",
       "      <td>0.0</td>\n",
       "      <td>0.0</td>\n",
       "      <td>0.0</td>\n",
       "      <td>0.0</td>\n",
       "      <td>0.0</td>\n",
       "      <td>0.0</td>\n",
       "      <td>0.0</td>\n",
       "      <td>0.0</td>\n",
       "      <td>...</td>\n",
       "      <td>1.0</td>\n",
       "      <td>0.0</td>\n",
       "      <td>0.0</td>\n",
       "      <td>0.0</td>\n",
       "      <td>0.0</td>\n",
       "      <td>0.0</td>\n",
       "      <td>0.0</td>\n",
       "      <td>0.0</td>\n",
       "      <td>0.0</td>\n",
       "      <td>0.0</td>\n",
       "    </tr>\n",
       "    <tr>\n",
       "      <th>4</th>\n",
       "      <td>0.0</td>\n",
       "      <td>0.0</td>\n",
       "      <td>0.0</td>\n",
       "      <td>0.0</td>\n",
       "      <td>0.0</td>\n",
       "      <td>0.0</td>\n",
       "      <td>0.0</td>\n",
       "      <td>0.0</td>\n",
       "      <td>0.0</td>\n",
       "      <td>0.0</td>\n",
       "      <td>...</td>\n",
       "      <td>0.0</td>\n",
       "      <td>0.0</td>\n",
       "      <td>0.0</td>\n",
       "      <td>0.0</td>\n",
       "      <td>0.0</td>\n",
       "      <td>0.0</td>\n",
       "      <td>0.0</td>\n",
       "      <td>0.0</td>\n",
       "      <td>0.0</td>\n",
       "      <td>0.0</td>\n",
       "    </tr>\n",
       "    <tr>\n",
       "      <th>5</th>\n",
       "      <td>0.0</td>\n",
       "      <td>0.0</td>\n",
       "      <td>0.0</td>\n",
       "      <td>0.0</td>\n",
       "      <td>0.0</td>\n",
       "      <td>0.0</td>\n",
       "      <td>0.0</td>\n",
       "      <td>0.0</td>\n",
       "      <td>0.0</td>\n",
       "      <td>0.0</td>\n",
       "      <td>...</td>\n",
       "      <td>0.0</td>\n",
       "      <td>0.0</td>\n",
       "      <td>0.0</td>\n",
       "      <td>0.0</td>\n",
       "      <td>0.0</td>\n",
       "      <td>0.0</td>\n",
       "      <td>0.0</td>\n",
       "      <td>0.0</td>\n",
       "      <td>0.0</td>\n",
       "      <td>0.0</td>\n",
       "    </tr>\n",
       "  </tbody>\n",
       "</table>\n",
       "<p>5 rows × 714 columns</p>\n",
       "</div>"
      ],
      "text/plain": [
       "article_id  0.0  100.0  1000.0  1004.0  1006.0  1008.0  101.0  1014.0  1015.0  \\\n",
       "user_id                                                                         \n",
       "1           0.0    0.0     0.0     0.0     0.0     0.0    0.0     0.0     0.0   \n",
       "2           0.0    0.0     0.0     0.0     0.0     0.0    0.0     0.0     0.0   \n",
       "3           0.0    0.0     0.0     0.0     0.0     0.0    0.0     0.0     0.0   \n",
       "4           0.0    0.0     0.0     0.0     0.0     0.0    0.0     0.0     0.0   \n",
       "5           0.0    0.0     0.0     0.0     0.0     0.0    0.0     0.0     0.0   \n",
       "\n",
       "article_id  1016.0  ...  977.0  98.0  981.0  984.0  985.0  986.0  990.0  \\\n",
       "user_id             ...                                                   \n",
       "1              0.0  ...    0.0   0.0    1.0    0.0    0.0    0.0    0.0   \n",
       "2              0.0  ...    0.0   0.0    0.0    0.0    0.0    0.0    0.0   \n",
       "3              0.0  ...    1.0   0.0    0.0    0.0    0.0    0.0    0.0   \n",
       "4              0.0  ...    0.0   0.0    0.0    0.0    0.0    0.0    0.0   \n",
       "5              0.0  ...    0.0   0.0    0.0    0.0    0.0    0.0    0.0   \n",
       "\n",
       "article_id  993.0  996.0  997.0  \n",
       "user_id                          \n",
       "1             0.0    0.0    0.0  \n",
       "2             0.0    0.0    0.0  \n",
       "3             0.0    0.0    0.0  \n",
       "4             0.0    0.0    0.0  \n",
       "5             0.0    0.0    0.0  \n",
       "\n",
       "[5 rows x 714 columns]"
      ]
     },
     "execution_count": 34,
     "metadata": {},
     "output_type": "execute_result"
    }
   ],
   "source": [
    "user_item_matrix.head()"
   ]
  },
  {
   "cell_type": "markdown",
   "metadata": {},
   "source": [
    "In this situation, I will use Singular Value Decomposition (SVD) on the `user_item_matrix`."
   ]
  },
  {
   "cell_type": "code",
   "execution_count": 35,
   "metadata": {},
   "outputs": [],
   "source": [
    "u, s, vt = np.linalg.svd(user_item_matrix)"
   ]
  },
  {
   "cell_type": "markdown",
   "metadata": {},
   "source": [
    "The dot product of `u`, `s`, and `vt` results in predicted values for user-item interactions. The number of latent features are in the number of columns of `u`, the number of rows and columns of `s`, and the number of rows of `vt`. In order to see the number of latent features to use, I will plot the accuracy as the number of latent features increases, leveraging some code provided by Udacity."
   ]
  },
  {
   "cell_type": "code",
   "execution_count": 36,
   "metadata": {},
   "outputs": [
    {
     "data": {
      "image/png": "[encoded data removed]",
      "text/plain": [
       "<Figure size 432x288 with 1 Axes>"
      ]
     },
     "metadata": {
      "needs_background": "light"
     },
     "output_type": "display_data"
    }
   ],
   "source": [
    "num_latent_feats = np.arange(10,700+10,20)\n",
    "sum_errs = []\n",
    "\n",
    "for k in num_latent_feats:\n",
    "    # restructure with k latent features\n",
    "    s_new, u_new, vt_new = np.diag(s[:k]), u[:, :k], vt[:k, :]\n",
    "    \n",
    "    # take dot product\n",
    "    user_item_est = np.around(np.dot(np.dot(u_new, s_new), vt_new))\n",
    "    \n",
    "    # compute error for each prediction to actual value\n",
    "    diffs = np.subtract(user_item_matrix, user_item_est)\n",
    "    \n",
    "    # total errors and keep track of them\n",
    "    err = np.sum(np.sum(np.abs(diffs)))\n",
    "    sum_errs.append(err)\n",
    "    \n",
    "    \n",
    "plt.plot(num_latent_feats, 1 - np.array(sum_errs)/(user_item_matrix.shape[0]*user_item_matrix.shape[1]));\n",
    "plt.xlabel('Number of Latent Features');\n",
    "plt.ylabel('Accuracy');\n",
    "plt.title('Accuracy vs. Number of Latent Features');"
   ]
  },
  {
   "cell_type": "markdown",
   "metadata": {},
   "source": [
    "As the number of latent features increases, there is higher accuracy on making predictions for the 1 and 0 values in the user-item matrix.\n",
    "\n",
    "From the above, I cannot really be sure how many features to use, because simply having a better way to predict the values of the matrix does not give an indication of if I am able to make good recommendations. Instead, I will split the dataset into a training and test set.  \n",
    "\n",
    "Using the training and test sets, I want to understand:\n",
    "\n",
    "- How many users can I make predictions for in the test set?  \n",
    "- How many users can I not make predictions for because of the cold start problem?\n",
    "- How many articles can I make predictions for in the test set?  \n",
    "- How many articles can I not make predictions for because of the cold start problem?"
   ]
  },
  {
   "cell_type": "code",
   "execution_count": 37,
   "metadata": {},
   "outputs": [],
   "source": [
    "df_train = df.head(40000)\n",
    "df_test = df.tail(5993)\n",
    "\n",
    "def create_test_and_train_user_item(df_train, df_test):\n",
    "    '''\n",
    "    INPUT:\n",
    "    df_train - training dataframe\n",
    "    df_test - test dataframe\n",
    "    \n",
    "    OUTPUT:\n",
    "    user_item_train - a user-item matrix of the training dataframe \n",
    "                      (unique users for each row and unique articles for each column)\n",
    "    user_item_test - a user-item matrix of the testing dataframe \n",
    "                    (unique users for each row and unique articles for each column)\n",
    "    test_idx - all of the test user ids\n",
    "    test_arts - all of the test article ids\n",
    "    \n",
    "    Description:\n",
    "    Returns a matrix with user ids as rows and article ids on the columns with 1 values where a user interacted with \n",
    "    an article and a 0 otherwise, for both training and test sets\n",
    "    Also returns all user and article ids from the test set\n",
    "    '''\n",
    "    \n",
    "    # pivot the training and test data\n",
    "    user_item_train = df_train.groupby(['user_id', 'article_id'])['user_id'].nunique().unstack()\n",
    "    user_item_train.fillna(value=0, inplace=True)\n",
    "    user_item_test = df_test.groupby(['user_id', 'article_id'])['user_id'].nunique().unstack()\n",
    "    user_item_test.fillna(value=0, inplace=True)\n",
    "    \n",
    "    test_idx = df_test['user_id']\n",
    "    test_arts = df_test['article_id']\n",
    "    \n",
    "    return user_item_train, user_item_test, test_idx, test_arts\n",
    "\n",
    "user_item_train, user_item_test, test_idx, test_arts = create_test_and_train_user_item(df_train, df_test)"
   ]
  },
  {
   "cell_type": "code",
   "execution_count": 38,
   "metadata": {},
   "outputs": [
    {
     "data": {
      "text/plain": [
       "20"
      ]
     },
     "execution_count": 38,
     "metadata": {},
     "output_type": "execute_result"
    }
   ],
   "source": [
    "# find the number of users in the test set that are also in the training set\n",
    "len(np.intersect1d(np.array(test_idx), np.array(df_train['user_id'])))"
   ]
  },
  {
   "cell_type": "code",
   "execution_count": 39,
   "metadata": {},
   "outputs": [
    {
     "data": {
      "text/plain": [
       "662"
      ]
     },
     "execution_count": 39,
     "metadata": {},
     "output_type": "execute_result"
    }
   ],
   "source": [
    "# find the number of users in the test set that are not in the training set\n",
    "len(np.setdiff1d(np.array(test_idx), np.array(df_train['user_id'])))"
   ]
  },
  {
   "cell_type": "code",
   "execution_count": 40,
   "metadata": {},
   "outputs": [
    {
     "data": {
      "text/plain": [
       "574"
      ]
     },
     "execution_count": 40,
     "metadata": {},
     "output_type": "execute_result"
    }
   ],
   "source": [
    "# find the number of articles in the test set that are also in the training set\n",
    "len(np.intersect1d(np.array(test_arts), np.array(df_train['article_id'])))"
   ]
  },
  {
   "cell_type": "code",
   "execution_count": 41,
   "metadata": {},
   "outputs": [
    {
     "data": {
      "text/plain": [
       "0"
      ]
     },
     "execution_count": 41,
     "metadata": {},
     "output_type": "execute_result"
    }
   ],
   "source": [
    "# find the number of articles in the test set that are not in the training set\n",
    "len(np.setdiff1d(np.array(test_arts), np.array(df_train['article_id'])))"
   ]
  },
  {
   "cell_type": "markdown",
   "metadata": {},
   "source": [
    "I will test these results against Udacity's solution."
   ]
  },
  {
   "cell_type": "code",
   "execution_count": 42,
   "metadata": {},
   "outputs": [
    {
     "name": "stdout",
     "output_type": "stream",
     "text": [
      "Awesome job!  That's right!  All of the test movies are in the training data, but there are only 20 test users that were also in the training set.  All of the other users that are in the test set we have no data on.  Therefore, we cannot make predictions for these users using SVD.\n"
     ]
    }
   ],
   "source": [
    "a = 662 \n",
    "b = 574 \n",
    "c = 20 \n",
    "d = 0 \n",
    "\n",
    "\n",
    "sol_4_dict = {\n",
    "    'How many users can we make predictions for in the test set?': c, \n",
    "    'How many users in the test set are we not able to make predictions for because of the cold start problem?': a, \n",
    "    'How many movies can we make predictions for in the test set?': b,\n",
    "    'How many movies in the test set are we not able to make predictions for because of the cold start problem?': d\n",
    "}\n",
    "\n",
    "t.sol_4_test(sol_4_dict)"
   ]
  },
  {
   "cell_type": "markdown",
   "metadata": {},
   "source": [
    "Now I will perform SVD using `user_item_train`, and then compare the accuracy against `user_item_test` using the `user_id` that are common to both. Then, similar to before, I will plot the accuracy as the number of latent features increases."
   ]
  },
  {
   "cell_type": "code",
   "execution_count": 43,
   "metadata": {},
   "outputs": [],
   "source": [
    "# fit SVD on the user_item_train matrix\n",
    "u_train, s_train, vt_train = np.linalg.svd(user_item_train)"
   ]
  },
  {
   "cell_type": "code",
   "execution_count": 44,
   "metadata": {},
   "outputs": [
    {
     "name": "stdout",
     "output_type": "stream",
     "text": [
      "10 Latent Features - Predicted 0s: 11430.0, Predicted 1s: 50.0, Percentage of 1s: 0.4%\n",
      "30 Latent Features - Predicted 0s: 11391.0, Predicted 1s: 89.0, Percentage of 1s: 0.8%\n",
      "50 Latent Features - Predicted 0s: 11373.0, Predicted 1s: 107.0, Percentage of 1s: 0.9%\n",
      "70 Latent Features - Predicted 0s: 11351.0, Predicted 1s: 129.0, Percentage of 1s: 1.1%\n",
      "90 Latent Features - Predicted 0s: 11332.0, Predicted 1s: 148.0, Percentage of 1s: 1.3%\n",
      "110 Latent Features - Predicted 0s: 11311.0, Predicted 1s: 169.0, Percentage of 1s: 1.5%\n",
      "130 Latent Features - Predicted 0s: 11298.0, Predicted 1s: 182.0, Percentage of 1s: 1.6%\n",
      "150 Latent Features - Predicted 0s: 11287.0, Predicted 1s: 193.0, Percentage of 1s: 1.7%\n",
      "170 Latent Features - Predicted 0s: 11277.0, Predicted 1s: 203.0, Percentage of 1s: 1.8%\n",
      "190 Latent Features - Predicted 0s: 11269.0, Predicted 1s: 211.0, Percentage of 1s: 1.8%\n",
      "210 Latent Features - Predicted 0s: 11261.0, Predicted 1s: 219.0, Percentage of 1s: 1.9%\n",
      "230 Latent Features - Predicted 0s: 11257.0, Predicted 1s: 223.0, Percentage of 1s: 1.9%\n",
      "250 Latent Features - Predicted 0s: 11251.0, Predicted 1s: 229.0, Percentage of 1s: 2.0%\n",
      "270 Latent Features - Predicted 0s: 11247.0, Predicted 1s: 233.0, Percentage of 1s: 2.0%\n",
      "290 Latent Features - Predicted 0s: 11244.0, Predicted 1s: 236.0, Percentage of 1s: 2.1%\n",
      "310 Latent Features - Predicted 0s: 11240.0, Predicted 1s: 240.0, Percentage of 1s: 2.1%\n",
      "330 Latent Features - Predicted 0s: 11240.0, Predicted 1s: 240.0, Percentage of 1s: 2.1%\n",
      "350 Latent Features - Predicted 0s: 11238.0, Predicted 1s: 242.0, Percentage of 1s: 2.1%\n",
      "370 Latent Features - Predicted 0s: 11238.0, Predicted 1s: 242.0, Percentage of 1s: 2.1%\n",
      "390 Latent Features - Predicted 0s: 11236.0, Predicted 1s: 244.0, Percentage of 1s: 2.1%\n",
      "410 Latent Features - Predicted 0s: 11236.0, Predicted 1s: 244.0, Percentage of 1s: 2.1%\n",
      "430 Latent Features - Predicted 0s: 11236.0, Predicted 1s: 244.0, Percentage of 1s: 2.1%\n",
      "450 Latent Features - Predicted 0s: 11236.0, Predicted 1s: 244.0, Percentage of 1s: 2.1%\n",
      "470 Latent Features - Predicted 0s: 11236.0, Predicted 1s: 244.0, Percentage of 1s: 2.1%\n",
      "490 Latent Features - Predicted 0s: 11236.0, Predicted 1s: 244.0, Percentage of 1s: 2.1%\n",
      "510 Latent Features - Predicted 0s: 11236.0, Predicted 1s: 244.0, Percentage of 1s: 2.1%\n",
      "530 Latent Features - Predicted 0s: 11236.0, Predicted 1s: 244.0, Percentage of 1s: 2.1%\n",
      "550 Latent Features - Predicted 0s: 11236.0, Predicted 1s: 244.0, Percentage of 1s: 2.1%\n",
      "570 Latent Features - Predicted 0s: 11236.0, Predicted 1s: 244.0, Percentage of 1s: 2.1%\n",
      "590 Latent Features - Predicted 0s: 11236.0, Predicted 1s: 244.0, Percentage of 1s: 2.1%\n",
      "610 Latent Features - Predicted 0s: 11236.0, Predicted 1s: 244.0, Percentage of 1s: 2.1%\n",
      "630 Latent Features - Predicted 0s: 11236.0, Predicted 1s: 244.0, Percentage of 1s: 2.1%\n",
      "650 Latent Features - Predicted 0s: 11236.0, Predicted 1s: 244.0, Percentage of 1s: 2.1%\n",
      "670 Latent Features - Predicted 0s: 11236.0, Predicted 1s: 244.0, Percentage of 1s: 2.1%\n",
      "690 Latent Features - Predicted 0s: 11236.0, Predicted 1s: 244.0, Percentage of 1s: 2.1%\n",
      "\n",
      "Test Set - 0s: 11262.0, 1s: 218.0, Percentage of 1s: 1.9%\n"
     ]
    },
    {
     "data": {
      "image/png": "[encoded data removed]",
      "text/plain": [
       "<Figure size 432x288 with 1 Axes>"
      ]
     },
     "metadata": {
      "needs_background": "light"
     },
     "output_type": "display_data"
    }
   ],
   "source": [
    "# find the user_id that are common to both user_item_train and user_item_test\n",
    "# only keep those rows in user_item_test, to be used later to calculate accuracy\n",
    "predictable_users = np.intersect1d(np.array(test_idx), np.array(df_train['user_id']))\n",
    "user_item_test_new = user_item_test.loc[predictable_users]\n",
    "\n",
    "# find the indices of rows and columns in user_item_train that are common to user_item_test_new\n",
    "predictable_users_idxs = np.where(user_item_train.index.isin(predictable_users))[0]\n",
    "test_arts_idxs = np.where(user_item_train.columns.isin(test_arts))[0]\n",
    "\n",
    "total_predictions = user_item_test_new.shape[0]*user_item_test_new.shape[1]\n",
    "\n",
    "num_latent_feats = np.arange(10,700+10,20)\n",
    "sum_errs = []\n",
    "\n",
    "for k in num_latent_feats:\n",
    "    # restructure with k latent features\n",
    "    s_new, u_new, vt_new = np.diag(s_train[:k]), u_train[:, :k], vt_train[:k, :]\n",
    "    \n",
    "    # take dot product\n",
    "    user_item_est = np.around(np.dot(np.dot(u_new, s_new), vt_new))\n",
    "    \n",
    "    # only keep the rows and columns that are common to user_item_test_new\n",
    "    user_item_est_new = user_item_est[predictable_users_idxs, :]\n",
    "    user_item_est_new = user_item_est_new[:, test_arts_idxs]\n",
    "    \n",
    "    # compute error for each prediction to actual value\n",
    "    diffs = np.subtract(user_item_test_new, user_item_est_new)\n",
    "    \n",
    "    # total errors and keep track of them\n",
    "    err = np.sum(np.sum(np.abs(diffs)))\n",
    "    sum_errs.append(err)\n",
    "    \n",
    "    predicted_1 = np.sum(user_item_est_new)\n",
    "    predicted_0 = total_predictions-predicted_1\n",
    "    predicted_percent_1 = round(predicted_1/total_predictions*100, 1)\n",
    "    print('{} Latent Features - Predicted 0s: {}, Predicted 1s: {}, Percentage of 1s: {}%'.format(\n",
    "        k,\n",
    "        predicted_0,\n",
    "        predicted_1,\n",
    "        predicted_percent_1\n",
    "    ))\n",
    "    \n",
    "actual_1 = np.sum(np.sum(user_item_test_new))\n",
    "actual_0 = total_predictions-actual_1\n",
    "actual_percent_1 = round(actual_1/total_predictions*100, 1)\n",
    "print('\\nTest Set - 0s: {}, 1s: {}, Percentage of 1s: {}%'.format(actual_0, actual_1, actual_percent_1))\n",
    "    \n",
    "plt.plot(num_latent_feats, 1-np.array(sum_errs)/(total_predictions));\n",
    "plt.xlabel('Number of Latent Features');\n",
    "plt.ylabel('Accuracy');\n",
    "plt.title('Accuracy vs. Number of Latent Features');"
   ]
  },
  {
   "cell_type": "markdown",
   "metadata": {},
   "source": [
    "As the number of latent features increases, the accuracy actually decreases. This is due to overfitting -- as the number of latent features increases, using SVD overfits more to the training data and therefore becomes less accurate in predicting the test data. This did not occur previously because I did not split the data into training and test sets, and the resulting matrices from SVD were used to predict on the exact same data that they were derived from.\n",
    "\n",
    "In this case, although it may seem like fewer latent features is better, the high accuracy is actually misleading as well, due to class imbalance. As shown by the predicted 0s and 1s above, fewer 1s are predicted when there are fewer latent features. And because only 1.9% of the values in the test set are 1s, SVD actually performs more accurately when it assumes that almost all of the values are 0s. However, if the recommendation system predicts that there will be no user-article interactions, then it would not be useful. Therefore, accuracy is the not the best metric to evaluate the recommendation system.\n",
    "\n",
    "Overall, I could determine if any of the above recommendation systems are an improvement to how users currently find articles by performing an A/B test. One possible evaluation metric is the number of interactions per user over a given period of time; however, a higher number of interactions does not necessarily mean the recommendation system is working well. Perhaps users are having more interactions because they have to go through several articles to find ones that they like. Therefore, I would choose an evaluation metric that measures user engagement based on the amount of time spent per article. The null hypothesis would be that the average time per article for users of the new recommendation system is equal to or worse than the average time per article in the control situation, and the alternative hypothesis would be that the group with the new recommendation system has a higher average time per article.\n",
    "\n",
    "<a id='Sources'></a>\n",
    "## Sources\n",
    "\n",
    "- [IBM Watson Studio](https://www.ibm.com/cloud/watson-studio)\n",
    "- [Udacity Data Scientist Nanodegree](https://www.udacity.com/course/data-scientist-nanodegree--nd025)\n",
    "- [Hide warnings](https://stackoverflow.com/questions/9031783/hide-all-warnings-in-ipython)\n",
    "- [Convert sparse matrix to dense ndarray representation](https://stackoverflow.com/questions/26576524/how-do-i-transform-a-scipy-sparse-matrix-to-a-numpy-matrix)\n",
    "- [Passing list-likes to .loc or [] with any missing labels is no longer supported](https://stackoverflow.com/questions/61291741/passing-list-likes-to-loc-or-with-any-missing-labels-is-no-longer-supported)"
   ]
  }
 ],
 "metadata": {
  "kernelspec": {
   "display_name": "Python 3",
   "language": "python",
   "name": "python3"
  },
  "language_info": {
   "codemirror_mode": {
    "name": "ipython",
    "version": 3
   },
   "file_extension": ".py",
   "mimetype": "text/x-python",
   "name": "python",
   "nbconvert_exporter": "python",
   "pygments_lexer": "ipython3",
   "version": "3.7.9"
  }
 },
 "nbformat": 4,
 "nbformat_minor": 2
}
